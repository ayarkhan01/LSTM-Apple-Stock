{
  "cells": [
    {
      "cell_type": "code",
      "execution_count": 1,
      "metadata": {
        "id": "_BhQfqJhnAVz"
      },
      "outputs": [],
      "source": [
        "import pandas as pd\n",
        "import numpy as np\n",
        "from sklearn.preprocessing import MinMaxScaler"
      ]
    },
    {
      "cell_type": "code",
      "execution_count": 2,
      "metadata": {
        "id": "iNwfDmY8nAV0"
      },
      "outputs": [],
      "source": [
        "data = pd.read_csv('/home/ayarkhan01/Desktop/Projects/stock_data_final.csv')"
      ]
    },
    {
      "cell_type": "code",
      "execution_count": 3,
      "metadata": {
        "id": "4KcMtTBanAV0"
      },
      "outputs": [],
      "source": [
        "symbol = 'AAPL'\n",
        "data = data[data['Symbol'] == symbol]"
      ]
    },
    {
      "cell_type": "code",
      "execution_count": 4,
      "metadata": {
        "id": "Sj62mkI3nAV1"
      },
      "outputs": [],
      "source": [
        "data = data.drop(['Symbol'], axis=1)\n",
        "data = data.dropna()"
      ]
    },
    {
      "cell_type": "code",
      "execution_count": 5,
      "metadata": {
        "id": "0YOg0utMnAV1"
      },
      "outputs": [
        {
          "name": "stderr",
          "output_type": "stream",
          "text": [
            "/tmp/ipykernel_1366/889507750.py:1: FutureWarning: In a future version of pandas, parsing datetimes with mixed time zones will raise an error unless `utc=True`. Please specify `utc=True` to opt in to the new behaviour and silence this warning. To create a `Series` with mixed offsets and `object` dtype, please use `apply` and `datetime.datetime.strptime`\n",
            "  data['Date'] = pd.to_datetime(data['Date'])\n"
          ]
        }
      ],
      "source": [
        "data['Date'] = pd.to_datetime(data['Date'])\n",
        "data.set_index('Date', inplace=True)"
      ]
    },
    {
      "cell_type": "code",
      "execution_count": 6,
      "metadata": {
        "id": "TGgpsNUXnAV1"
      },
      "outputs": [],
      "source": [
        "scaler = MinMaxScaler()\n",
        "scaled_data = scaler.fit_transform(data)"
      ]
    },
    {
      "cell_type": "code",
      "execution_count": 7,
      "metadata": {
        "id": "DtU3QpiUnAV2"
      },
      "outputs": [],
      "source": [
        "sequence_length = 60  # Number of historical days to consider\n",
        "\n",
        "X = []\n",
        "y = []\n",
        "for i in range(sequence_length, len(scaled_data)):\n",
        "    X.append(scaled_data[i - sequence_length:i])\n",
        "    y.append(scaled_data[i, 3])  # Using the scaled Close price as the target variable\n",
        "\n",
        "X = np.array(X)\n",
        "y = np.array(y)"
      ]
    },
    {
      "cell_type": "code",
      "execution_count": 8,
      "metadata": {
        "id": "8bwZgGzLnAV2"
      },
      "outputs": [],
      "source": [
        "split_ratio = 0.8  # 80% for training, 20% for testing\n",
        "split_index = int(split_ratio * len(X))\n",
        "\n",
        "X_train, X_test = X[:split_index], X[split_index:]\n",
        "y_train, y_test = y[:split_index], y[split_index:]"
      ]
    },
    {
      "cell_type": "code",
      "execution_count": 9,
      "metadata": {
        "id": "o9YwtNKHnAV2"
      },
      "outputs": [
        {
          "name": "stderr",
          "output_type": "stream",
          "text": [
            "2024-03-06 09:01:41.267423: I external/local_tsl/tsl/cuda/cudart_stub.cc:31] Could not find cuda drivers on your machine, GPU will not be used.\n",
            "2024-03-06 09:01:41.425933: E external/local_xla/xla/stream_executor/cuda/cuda_dnn.cc:9261] Unable to register cuDNN factory: Attempting to register factory for plugin cuDNN when one has already been registered\n",
            "2024-03-06 09:01:41.426120: E external/local_xla/xla/stream_executor/cuda/cuda_fft.cc:607] Unable to register cuFFT factory: Attempting to register factory for plugin cuFFT when one has already been registered\n",
            "2024-03-06 09:01:41.448652: E external/local_xla/xla/stream_executor/cuda/cuda_blas.cc:1515] Unable to register cuBLAS factory: Attempting to register factory for plugin cuBLAS when one has already been registered\n",
            "2024-03-06 09:01:41.526527: I external/local_tsl/tsl/cuda/cudart_stub.cc:31] Could not find cuda drivers on your machine, GPU will not be used.\n",
            "2024-03-06 09:01:41.528560: I tensorflow/core/platform/cpu_feature_guard.cc:182] This TensorFlow binary is optimized to use available CPU instructions in performance-critical operations.\n",
            "To enable the following instructions: AVX2 FMA, in other operations, rebuild TensorFlow with the appropriate compiler flags.\n",
            "2024-03-06 09:01:42.536184: W tensorflow/compiler/tf2tensorrt/utils/py_utils.cc:38] TF-TRT Warning: Could not find TensorRT\n"
          ]
        }
      ],
      "source": [
        "from keras.models import Sequential\n",
        "from keras.layers import LSTM, Dense"
      ]
    },
    {
      "cell_type": "code",
      "execution_count": 19,
      "metadata": {
        "colab": {
          "base_uri": "https://localhost:8080/"
        },
        "id": "p-VQ-gs060GD",
        "outputId": "4080e014-c34b-402b-8479-c683b4dbb9e1"
      },
      "outputs": [
        {
          "name": "stdout",
          "output_type": "stream",
          "text": [
            "21/21 [==============================] - 1s 11ms/step\n",
            "21/21 [==============================] - 1s 11ms/step\n",
            "21/21 [==============================] - 1s 29ms/step\n",
            "21/21 [==============================] - 1s 8ms/step\n",
            "21/21 [==============================] - 1s 12ms/step\n",
            "21/21 [==============================] - 2s 56ms/step\n",
            "21/21 [==============================] - 1s 11ms/step\n",
            "21/21 [==============================] - 1s 11ms/step\n",
            "21/21 [==============================] - 1s 28ms/step\n",
            "21/21 [==============================] - 1s 8ms/step\n",
            "21/21 [==============================] - 1s 11ms/step\n",
            "21/21 [==============================] - 1s 29ms/step\n",
            "21/21 [==============================] - 1s 11ms/step\n",
            "21/21 [==============================] - 1s 12ms/step\n",
            "21/21 [==============================] - 1s 29ms/step\n",
            "21/21 [==============================] - 1s 8ms/step\n",
            "21/21 [==============================] - 1s 11ms/step\n",
            "21/21 [==============================] - 1s 28ms/step\n",
            "21/21 [==============================] - 1s 8ms/step\n",
            "21/21 [==============================] - 1s 10ms/step\n",
            "21/21 [==============================] - 1s 29ms/step\n",
            "21/21 [==============================] - 1s 8ms/step\n",
            "21/21 [==============================] - 1s 16ms/step\n",
            "21/21 [==============================] - 1s 30ms/step\n",
            "21/21 [==============================] - 1s 8ms/step\n",
            "21/21 [==============================] - 1s 12ms/step\n",
            "21/21 [==============================] - 1s 29ms/step\n",
            "    Epochs  Batch Size  Units       MSE       MAE      RMSE\n",
            "0       50          32     32  0.000314  0.013605  0.017714\n",
            "1       50          32     64  0.000301  0.013131  0.017345\n",
            "2       50          32    128  0.000580  0.019861  0.024073\n",
            "3       50          64     32  0.000831  0.022401  0.028824\n",
            "4       50          64     64  0.000375  0.015002  0.019355\n",
            "5       50          64    128  0.000919  0.026088  0.030313\n",
            "6       50         128     32  0.001286  0.029173  0.035859\n",
            "7       50         128     64  0.000427  0.015544  0.020671\n",
            "8       50         128    128  0.000480  0.016841  0.021913\n",
            "9      100          32     32  0.000315  0.013729  0.017756\n",
            "10     100          32     64  0.000305  0.013396  0.017470\n",
            "11     100          32    128  0.000338  0.014288  0.018387\n",
            "12     100          64     32  0.000891  0.025410  0.029845\n",
            "13     100          64     64  0.000290  0.013066  0.017020\n",
            "14     100          64    128  0.000627  0.020237  0.025043\n",
            "15     100         128     32  0.000524  0.017438  0.022884\n",
            "16     100         128     64  0.000338  0.014165  0.018394\n",
            "17     100         128    128  0.000330  0.013843  0.018156\n",
            "18     150          32     32  0.000445  0.016198  0.021100\n",
            "19     150          32     64  0.000422  0.015970  0.020538\n",
            "20     150          32    128  0.000342  0.014028  0.018498\n",
            "21     150          64     32  0.000472  0.017320  0.021715\n",
            "22     150          64     64  0.000428  0.016679  0.020699\n",
            "23     150          64    128  0.001590  0.033472  0.039878\n",
            "24     150         128     32  0.000327  0.013832  0.018075\n",
            "25     150         128     64  0.000519  0.018563  0.022777\n",
            "26     150         128    128  0.000336  0.014203  0.018328\n"
          ]
        }
      ],
      "source": [
        "import pandas as pd\n",
        "\n",
        "# Define the range of epochs, batch sizes, and units to experiment with\n",
        "epochs_list = [50, 100, 150]  # Example values, adjust as needed\n",
        "batch_size_list = [32, 64, 128]  # Example values, adjust as needed\n",
        "units_list = [32, 64, 128]  # Example values, adjust as needed\n",
        "\n",
        "# Create an empty list to store the evaluation results\n",
        "results = []\n",
        "\n",
        "# Create a loop to iterate over different epochs, batch sizes, and units\n",
        "for epochs in epochs_list:\n",
        "    for batch_size in batch_size_list:\n",
        "        for units in units_list:\n",
        "            # Create a new instance of the model for each combination of epochs, batch size, and units\n",
        "            model = Sequential()\n",
        "            model.add(LSTM(units, input_shape=(sequence_length, X_train.shape[2])))\n",
        "            model.add(Dense(1))\n",
        "\n",
        "            model.compile(optimizer='adam', loss='mean_squared_error')\n",
        "\n",
        "            # Train the model with the current epochs and batch size\n",
        "            model.fit(X_train, y_train, epochs=epochs, batch_size=batch_size, verbose=0)\n",
        "\n",
        "            # Evaluate the model's performance on the testing set\n",
        "            y_pred = model.predict(X_test)\n",
        "            mse = mean_squared_error(y_test, y_pred)\n",
        "            mae = mean_absolute_error(y_test, y_pred)\n",
        "            rmse = np.sqrt(mse)\n",
        "\n",
        "            # Append the evaluation results to the list\n",
        "            results.append({'Epochs': epochs, 'Batch Size': batch_size, 'Units': units, 'MSE': mse, 'MAE': mae, 'RMSE': rmse})\n",
        "\n",
        "# Create a DataFrame from the results list\n",
        "results_df = pd.DataFrame(results)\n",
        "\n",
        "# Display the evaluation results table\n",
        "print(results_df)"
      ]
    },
    {
      "cell_type": "code",
      "execution_count": 21,
      "metadata": {
        "id": "lvcCYJ_G51UH"
      },
      "outputs": [],
      "source": [
        "average= (results_df[\"MSE\"]+results_df['RMSE']+results_df['MAE'])/3"
      ]
    },
    {
      "cell_type": "code",
      "execution_count": 22,
      "metadata": {
        "colab": {
          "base_uri": "https://localhost:8080/"
        },
        "id": "p19lpmTo6FH-",
        "outputId": "2ea4caa4-9ad7-486d-c219-7e3c82b2fc25"
      },
      "outputs": [
        {
          "data": {
            "text/plain": [
              "0     0.010544\n",
              "1     0.010259\n",
              "2     0.014838\n",
              "3     0.017352\n",
              "4     0.011577\n",
              "5     0.019107\n",
              "6     0.022106\n",
              "7     0.012214\n",
              "8     0.013078\n",
              "9     0.010600\n",
              "10    0.010390\n",
              "11    0.011004\n",
              "12    0.018715\n",
              "13    0.010125\n",
              "14    0.015302\n",
              "15    0.013615\n",
              "16    0.010966\n",
              "17    0.010776\n",
              "18    0.012581\n",
              "19    0.012310\n",
              "20    0.010956\n",
              "21    0.013169\n",
              "22    0.012602\n",
              "23    0.024980\n",
              "24    0.010744\n",
              "25    0.013953\n",
              "26    0.010956\n",
              "dtype: float64"
            ]
          },
          "execution_count": 22,
          "metadata": {},
          "output_type": "execute_result"
        }
      ],
      "source": [
        "average"
      ]
    }
  ],
  "metadata": {
    "colab": {
      "provenance": []
    },
    "kernelspec": {
      "display_name": ".venv",
      "language": "python",
      "name": "python3"
    },
    "language_info": {
      "codemirror_mode": {
        "name": "ipython",
        "version": 3
      },
      "file_extension": ".py",
      "mimetype": "text/x-python",
      "name": "python",
      "nbconvert_exporter": "python",
      "pygments_lexer": "ipython3",
      "version": "3.10.12"
    }
  },
  "nbformat": 4,
  "nbformat_minor": 0
}
