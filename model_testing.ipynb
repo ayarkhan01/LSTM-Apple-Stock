{
 "cells": [
  {
   "cell_type": "code",
   "execution_count": 2,
   "metadata": {},
   "outputs": [
    {
     "name": "stderr",
     "output_type": "stream",
     "text": [
      "2024-03-07 19:05:58.031066: I external/local_tsl/tsl/cuda/cudart_stub.cc:31] Could not find cuda drivers on your machine, GPU will not be used.\n",
      "2024-03-07 19:05:58.061997: E external/local_xla/xla/stream_executor/cuda/cuda_dnn.cc:9261] Unable to register cuDNN factory: Attempting to register factory for plugin cuDNN when one has already been registered\n",
      "2024-03-07 19:05:58.062021: E external/local_xla/xla/stream_executor/cuda/cuda_fft.cc:607] Unable to register cuFFT factory: Attempting to register factory for plugin cuFFT when one has already been registered\n",
      "2024-03-07 19:05:58.062808: E external/local_xla/xla/stream_executor/cuda/cuda_blas.cc:1515] Unable to register cuBLAS factory: Attempting to register factory for plugin cuBLAS when one has already been registered\n",
      "2024-03-07 19:05:58.067391: I external/local_tsl/tsl/cuda/cudart_stub.cc:31] Could not find cuda drivers on your machine, GPU will not be used.\n",
      "2024-03-07 19:05:58.068103: I tensorflow/core/platform/cpu_feature_guard.cc:182] This TensorFlow binary is optimized to use available CPU instructions in performance-critical operations.\n",
      "To enable the following instructions: AVX2 FMA, in other operations, rebuild TensorFlow with the appropriate compiler flags.\n",
      "2024-03-07 19:05:58.756107: W tensorflow/compiler/tf2tensorrt/utils/py_utils.cc:38] TF-TRT Warning: Could not find TensorRT\n"
     ]
    }
   ],
   "source": [
    "import numpy as np\n",
    "import pandas as pd\n",
    "from sklearn.preprocessing import MinMaxScaler\n",
    "from tensorflow.keras.models import load_model\n",
    "from math import sqrt\n",
    "from sklearn.metrics import mean_squared_error"
   ]
  },
  {
   "cell_type": "code",
   "execution_count": 3,
   "metadata": {},
   "outputs": [],
   "source": [
    "stock_data = pd.read_csv('/home/ayarkhan01/Desktop/Projects/stock_data_final.csv')"
   ]
  },
  {
   "cell_type": "code",
   "execution_count": 4,
   "metadata": {},
   "outputs": [
    {
     "name": "stderr",
     "output_type": "stream",
     "text": [
      "/tmp/ipykernel_262/1250480754.py:1: FutureWarning: In a future version of pandas, parsing datetimes with mixed time zones will raise an error unless `utc=True`. Please specify `utc=True` to opt in to the new behaviour and silence this warning. To create a `Series` with mixed offsets and `object` dtype, please use `apply` and `datetime.datetime.strptime`\n",
      "  stock_data['Date'] = pd.to_datetime(stock_data['Date'])\n"
     ]
    }
   ],
   "source": [
    "stock_data['Date'] = pd.to_datetime(stock_data['Date'])\n",
    "stock_data.set_index('Date', inplace=True)"
   ]
  },
  {
   "cell_type": "code",
   "execution_count": 5,
   "metadata": {},
   "outputs": [],
   "source": [
    "model = load_model(\"/home/ayarkhan01/Desktop/Projects/model_name.keras\")"
   ]
  },
  {
   "cell_type": "code",
   "execution_count": 8,
   "metadata": {},
   "outputs": [],
   "source": [
    "scaler = MinMaxScaler(feature_range=(0, 1))\n",
    "scaled_data = scaler.fit_transform(stock_data)"
   ]
  },
  {
   "cell_type": "code",
   "execution_count": 11,
   "metadata": {},
   "outputs": [
    {
     "data": {
      "text/plain": [
       "(60, 9)"
      ]
     },
     "execution_count": 11,
     "metadata": {},
     "output_type": "execute_result"
    }
   ],
   "source": [
    "last_60_days_scaled.shape"
   ]
  },
  {
   "cell_type": "code",
   "execution_count": 12,
   "metadata": {},
   "outputs": [
    {
     "data": {
      "text/plain": [
       "(1, 60, 9)"
      ]
     },
     "execution_count": 12,
     "metadata": {},
     "output_type": "execute_result"
    }
   ],
   "source": [
    "X_last_60_days.shape"
   ]
  },
  {
   "cell_type": "code",
   "execution_count": 15,
   "metadata": {},
   "outputs": [
    {
     "data": {
      "text/plain": [
       "(3381, 9)"
      ]
     },
     "execution_count": 15,
     "metadata": {},
     "output_type": "execute_result"
    }
   ],
   "source": [
    "stock_data.shape"
   ]
  },
  {
   "cell_type": "code",
   "execution_count": 9,
   "metadata": {},
   "outputs": [
    {
     "name": "stdout",
     "output_type": "stream",
     "text": [
      "\u001b[1m1/1\u001b[0m \u001b[32m━━━━━━━━━━━━━━━━━━━━\u001b[0m\u001b[37m\u001b[0m \u001b[1m0s\u001b[0m 198ms/step\n"
     ]
    }
   ],
   "source": [
    "last_60_days = stock_data.tail(60)\n",
    "\n",
    "# Scale the last 60 days of data using the fitted scaler\n",
    "last_60_days_scaled = scaler.transform(last_60_days)\n",
    "\n",
    "# Reshape this data to match the LSTM model's input shape\n",
    "X_last_60_days = last_60_days_scaled.reshape((1, 60, stock_data.shape[1]))\n",
    "\n",
    "# Predict the scaled close price for the next day\n",
    "predicted_close_scaled = model.predict(X_last_60_days)\n",
    "\n",
    "# Prepare a composite array for inverse transformation\n",
    "composite_array = np.zeros((1, stock_data.shape[1]))"
   ]
  },
  {
   "cell_type": "code",
   "execution_count": 11,
   "metadata": {},
   "outputs": [
    {
     "name": "stdout",
     "output_type": "stream",
     "text": [
      "Predicted next day's close price: 175.3484216480328\n"
     ]
    }
   ],
   "source": [
    "close_idx = stock_data.columns.get_loc(\"Close\")  # Replace \"Close\" with the exact column name as in your DataFrame\n",
    "\n",
    "# Insert the predicted scaled 'close' price into the composite array\n",
    "composite_array[0, close_idx] = predicted_close_scaled[0, 0]\n",
    "\n",
    "# Inversely transform the composite array to get the original scale of data\n",
    "predicted_close_unscaled = scaler.inverse_transform(composite_array)[0, close_idx]\n",
    "\n",
    "print(f\"Predicted next day's close price: {predicted_close_unscaled}\")"
   ]
  },
  {
   "cell_type": "code",
   "execution_count": 12,
   "metadata": {},
   "outputs": [
    {
     "data": {
      "text/html": [
       "<div>\n",
       "<style scoped>\n",
       "    .dataframe tbody tr th:only-of-type {\n",
       "        vertical-align: middle;\n",
       "    }\n",
       "\n",
       "    .dataframe tbody tr th {\n",
       "        vertical-align: top;\n",
       "    }\n",
       "\n",
       "    .dataframe thead th {\n",
       "        text-align: right;\n",
       "    }\n",
       "</style>\n",
       "<table border=\"1\" class=\"dataframe\">\n",
       "  <thead>\n",
       "    <tr style=\"text-align: right;\">\n",
       "      <th></th>\n",
       "      <th>High</th>\n",
       "      <th>Low</th>\n",
       "      <th>Close</th>\n",
       "      <th>Volume</th>\n",
       "      <th>sma</th>\n",
       "      <th>ema</th>\n",
       "      <th>rsi</th>\n",
       "      <th>bolinger_upper</th>\n",
       "      <th>bolinger_lower</th>\n",
       "    </tr>\n",
       "    <tr>\n",
       "      <th>Date</th>\n",
       "      <th></th>\n",
       "      <th></th>\n",
       "      <th></th>\n",
       "      <th></th>\n",
       "      <th></th>\n",
       "      <th></th>\n",
       "      <th></th>\n",
       "      <th></th>\n",
       "      <th></th>\n",
       "    </tr>\n",
       "  </thead>\n",
       "  <tbody>\n",
       "    <tr>\n",
       "      <th>2010-01-04 00:00:00-05:00</th>\n",
       "      <td>6.485558</td>\n",
       "      <td>6.421458</td>\n",
       "      <td>6.470742</td>\n",
       "      <td>493729600</td>\n",
       "      <td>NaN</td>\n",
       "      <td>6.470742</td>\n",
       "      <td>NaN</td>\n",
       "      <td>NaN</td>\n",
       "      <td>NaN</td>\n",
       "    </tr>\n",
       "    <tr>\n",
       "      <th>2010-01-05 00:00:00-05:00</th>\n",
       "      <td>6.518514</td>\n",
       "      <td>6.447762</td>\n",
       "      <td>6.481928</td>\n",
       "      <td>601904800</td>\n",
       "      <td>NaN</td>\n",
       "      <td>6.472463</td>\n",
       "      <td>NaN</td>\n",
       "      <td>NaN</td>\n",
       "      <td>NaN</td>\n",
       "    </tr>\n",
       "    <tr>\n",
       "      <th>2010-01-06 00:00:00-05:00</th>\n",
       "      <td>6.507628</td>\n",
       "      <td>6.372172</td>\n",
       "      <td>6.378824</td>\n",
       "      <td>552160000</td>\n",
       "      <td>NaN</td>\n",
       "      <td>6.458057</td>\n",
       "      <td>NaN</td>\n",
       "      <td>NaN</td>\n",
       "      <td>NaN</td>\n",
       "    </tr>\n",
       "    <tr>\n",
       "      <th>2010-01-07 00:00:00-05:00</th>\n",
       "      <td>6.409968</td>\n",
       "      <td>6.320772</td>\n",
       "      <td>6.367033</td>\n",
       "      <td>477131200</td>\n",
       "      <td>NaN</td>\n",
       "      <td>6.444053</td>\n",
       "      <td>NaN</td>\n",
       "      <td>NaN</td>\n",
       "      <td>NaN</td>\n",
       "    </tr>\n",
       "    <tr>\n",
       "      <th>2010-01-08 00:00:00-05:00</th>\n",
       "      <td>6.409967</td>\n",
       "      <td>6.321075</td>\n",
       "      <td>6.409362</td>\n",
       "      <td>447610800</td>\n",
       "      <td>NaN</td>\n",
       "      <td>6.438716</td>\n",
       "      <td>NaN</td>\n",
       "      <td>NaN</td>\n",
       "      <td>NaN</td>\n",
       "    </tr>\n",
       "    <tr>\n",
       "      <th>...</th>\n",
       "      <td>...</td>\n",
       "      <td>...</td>\n",
       "      <td>...</td>\n",
       "      <td>...</td>\n",
       "      <td>...</td>\n",
       "      <td>...</td>\n",
       "      <td>...</td>\n",
       "      <td>...</td>\n",
       "      <td>...</td>\n",
       "    </tr>\n",
       "    <tr>\n",
       "      <th>2023-06-02 00:00:00-04:00</th>\n",
       "      <td>181.064957</td>\n",
       "      <td>178.554865</td>\n",
       "      <td>180.238220</td>\n",
       "      <td>61945900</td>\n",
       "      <td>173.623037</td>\n",
       "      <td>175.279607</td>\n",
       "      <td>75.119967</td>\n",
       "      <td>179.032684</td>\n",
       "      <td>168.213390</td>\n",
       "    </tr>\n",
       "    <tr>\n",
       "      <th>2023-06-05 00:00:00-04:00</th>\n",
       "      <td>184.222483</td>\n",
       "      <td>177.339661</td>\n",
       "      <td>178.873611</td>\n",
       "      <td>121946500</td>\n",
       "      <td>173.934295</td>\n",
       "      <td>175.832531</td>\n",
       "      <td>71.396000</td>\n",
       "      <td>179.804584</td>\n",
       "      <td>168.064006</td>\n",
       "    </tr>\n",
       "    <tr>\n",
       "      <th>2023-06-06 00:00:00-04:00</th>\n",
       "      <td>179.411490</td>\n",
       "      <td>176.732069</td>\n",
       "      <td>178.505081</td>\n",
       "      <td>64848400</td>\n",
       "      <td>174.230608</td>\n",
       "      <td>176.243693</td>\n",
       "      <td>69.921917</td>\n",
       "      <td>180.403301</td>\n",
       "      <td>168.057914</td>\n",
       "    </tr>\n",
       "    <tr>\n",
       "      <th>2023-06-07 00:00:00-04:00</th>\n",
       "      <td>180.497209</td>\n",
       "      <td>176.622511</td>\n",
       "      <td>177.120544</td>\n",
       "      <td>61944600</td>\n",
       "      <td>174.543734</td>\n",
       "      <td>176.378593</td>\n",
       "      <td>63.723939</td>\n",
       "      <td>180.630849</td>\n",
       "      <td>168.456619</td>\n",
       "    </tr>\n",
       "    <tr>\n",
       "      <th>2023-06-08 00:00:00-04:00</th>\n",
       "      <td>180.128653</td>\n",
       "      <td>176.761959</td>\n",
       "      <td>179.859726</td>\n",
       "      <td>50214900</td>\n",
       "      <td>174.904795</td>\n",
       "      <td>176.914152</td>\n",
       "      <td>64.465446</td>\n",
       "      <td>181.361520</td>\n",
       "      <td>168.448070</td>\n",
       "    </tr>\n",
       "  </tbody>\n",
       "</table>\n",
       "<p>3381 rows × 9 columns</p>\n",
       "</div>"
      ],
      "text/plain": [
       "                                 High         Low       Close     Volume  \\\n",
       "Date                                                                       \n",
       "2010-01-04 00:00:00-05:00    6.485558    6.421458    6.470742  493729600   \n",
       "2010-01-05 00:00:00-05:00    6.518514    6.447762    6.481928  601904800   \n",
       "2010-01-06 00:00:00-05:00    6.507628    6.372172    6.378824  552160000   \n",
       "2010-01-07 00:00:00-05:00    6.409968    6.320772    6.367033  477131200   \n",
       "2010-01-08 00:00:00-05:00    6.409967    6.321075    6.409362  447610800   \n",
       "...                               ...         ...         ...        ...   \n",
       "2023-06-02 00:00:00-04:00  181.064957  178.554865  180.238220   61945900   \n",
       "2023-06-05 00:00:00-04:00  184.222483  177.339661  178.873611  121946500   \n",
       "2023-06-06 00:00:00-04:00  179.411490  176.732069  178.505081   64848400   \n",
       "2023-06-07 00:00:00-04:00  180.497209  176.622511  177.120544   61944600   \n",
       "2023-06-08 00:00:00-04:00  180.128653  176.761959  179.859726   50214900   \n",
       "\n",
       "                                  sma         ema        rsi  bolinger_upper  \\\n",
       "Date                                                                           \n",
       "2010-01-04 00:00:00-05:00         NaN    6.470742        NaN             NaN   \n",
       "2010-01-05 00:00:00-05:00         NaN    6.472463        NaN             NaN   \n",
       "2010-01-06 00:00:00-05:00         NaN    6.458057        NaN             NaN   \n",
       "2010-01-07 00:00:00-05:00         NaN    6.444053        NaN             NaN   \n",
       "2010-01-08 00:00:00-05:00         NaN    6.438716        NaN             NaN   \n",
       "...                               ...         ...        ...             ...   \n",
       "2023-06-02 00:00:00-04:00  173.623037  175.279607  75.119967      179.032684   \n",
       "2023-06-05 00:00:00-04:00  173.934295  175.832531  71.396000      179.804584   \n",
       "2023-06-06 00:00:00-04:00  174.230608  176.243693  69.921917      180.403301   \n",
       "2023-06-07 00:00:00-04:00  174.543734  176.378593  63.723939      180.630849   \n",
       "2023-06-08 00:00:00-04:00  174.904795  176.914152  64.465446      181.361520   \n",
       "\n",
       "                           bolinger_lower  \n",
       "Date                                       \n",
       "2010-01-04 00:00:00-05:00             NaN  \n",
       "2010-01-05 00:00:00-05:00             NaN  \n",
       "2010-01-06 00:00:00-05:00             NaN  \n",
       "2010-01-07 00:00:00-05:00             NaN  \n",
       "2010-01-08 00:00:00-05:00             NaN  \n",
       "...                                   ...  \n",
       "2023-06-02 00:00:00-04:00      168.213390  \n",
       "2023-06-05 00:00:00-04:00      168.064006  \n",
       "2023-06-06 00:00:00-04:00      168.057914  \n",
       "2023-06-07 00:00:00-04:00      168.456619  \n",
       "2023-06-08 00:00:00-04:00      168.448070  \n",
       "\n",
       "[3381 rows x 9 columns]"
      ]
     },
     "execution_count": 12,
     "metadata": {},
     "output_type": "execute_result"
    }
   ],
   "source": [
    "stock_data"
   ]
  }
 ],
 "metadata": {
  "kernelspec": {
   "display_name": ".venv",
   "language": "python",
   "name": "python3"
  },
  "language_info": {
   "codemirror_mode": {
    "name": "ipython",
    "version": 3
   },
   "file_extension": ".py",
   "mimetype": "text/x-python",
   "name": "python",
   "nbconvert_exporter": "python",
   "pygments_lexer": "ipython3",
   "version": "3.10.12"
  }
 },
 "nbformat": 4,
 "nbformat_minor": 2
}
